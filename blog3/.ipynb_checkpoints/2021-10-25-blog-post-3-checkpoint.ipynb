{
 "cells": [
  {
   "cell_type": "markdown",
   "id": "ac4a9f2f",
   "metadata": {},
   "source": [
    "---\n",
    "layout: post\n",
    "title: Blog Post 3\n",
    "---\n",
    "\n",
    "In this blog post, we’ll learn how to create a simple webapp using Flask. "
   ]
  },
  {
   "cell_type": "markdown",
   "id": "b8ff2d65",
   "metadata": {},
   "source": [
    "**I built my `app` file based on the example apps from the lecture and discussion, it is noted.**"
   ]
  },
  {
   "cell_type": "markdown",
   "id": "89549a8f",
   "metadata": {},
   "source": [
    "# §1. What are we going to do?"
   ]
  },
  {
   "cell_type": "markdown",
   "id": "468999f7",
   "metadata": {},
   "source": [
    "We want to create a webapp including 3 pages:\n",
    "\n",
    "1. **Main page**\n",
    "2. **Submit a message**\n",
    "3. **View messages**\n",
    "\n",
    "For these pages, we need to create 3 templates seperately, which are `main.html`, `submit.html`, `view.html`.\n",
    "\n",
    "Also, these 3 templates are supposed to be including in `base.html`."
   ]
  },
  {
   "cell_type": "markdown",
   "id": "2333dab9",
   "metadata": {},
   "source": [
    "# §2. Setup"
   ]
  },
  {
   "cell_type": "markdown",
   "id": "b794e6b3",
   "metadata": {},
   "source": [
    "## Base page"
   ]
  },
  {
   "cell_type": "markdown",
   "id": "46aef8cd",
   "metadata": {},
   "source": [
    "### - `base.html`"
   ]
  },
  {
   "cell_type": "markdown",
   "id": "4a4ebcdf",
   "metadata": {},
   "source": [
    "It can handle all the pages we will see on our website, which are `submit` page and `view` page. The reason why we do not contain our `main` page in it is that we only need our main(welcome) page to appear in the very beginning."
   ]
  },
  {
   "cell_type": "markdown",
   "id": "81a8be65",
   "metadata": {},
   "source": [
    "```html\n",
    "{% raw %}\n",
    "<!doctype html>\n",
    "<title>{% block title %}{% endblock %} - Linqiao's Message Bank</title>\n",
    "<link rel=\"stylesheet\" href=\"{{ url_for('static', filename='style.css') }}\">\n",
    "<nav>\n",
    "  <h1>Linqiao's Message Bank</h1>\n",
    "  <!-- <b>Navigation:</b> -->\n",
    "  <ul>\n",
    "    <li><a href=\"{{ url_for('submit') }}\">Submit a message</a></li>\n",
    "    <li><a href=\"{{ url_for('view') }}\">View messages</a></li>\n",
    "  </ul>\n",
    "</nav>\n",
    "<section class=\"content\">\n",
    "  <header>\n",
    "    {% block header %}{% endblock %}\n",
    "  </header>\n",
    "  {% block content %}{% endblock %}\n",
    "</section>\n",
    "{% endraw %}\n",
    "```"
   ]
  },
  {
   "cell_type": "markdown",
   "id": "d5e252a8",
   "metadata": {},
   "source": [
    "## Main page"
   ]
  },
  {
   "cell_type": "markdown",
   "id": "23b412a4",
   "metadata": {},
   "source": [
    "### - `main.html`"
   ]
  },
  {
   "cell_type": "markdown",
   "id": "3c84695b",
   "metadata": {},
   "source": [
    "```html\n",
    "{% raw %}\n",
    "{% extends 'base.html' %}\n",
    "\n",
    "{% block header %}\n",
    "  <h1>{% block title %}Welcome{% endblock %}</h1>\n",
    "{% endblock %}\n",
    "\n",
    "{% block content %}\n",
    "  <p>Welcome to Linqiao's Message Board!</p>\n",
    "{% endblock %}\n",
    "{% endraw %}\n",
    "```"
   ]
  },
  {
   "cell_type": "markdown",
   "id": "87fcbf6b",
   "metadata": {},
   "source": [
    "Create a WELCOME page by rendering `main.html` template."
   ]
  },
  {
   "cell_type": "code",
   "execution_count": null,
   "id": "aa037c1d",
   "metadata": {},
   "outputs": [],
   "source": [
    "@app.route('/')\n",
    "def main():\n",
    "\n",
    "    return render_template('main.html')"
   ]
  },
  {
   "cell_type": "markdown",
   "id": "3d33f4f5",
   "metadata": {},
   "source": [
    "![blog3_main.png](/images/blog3_main.png)"
   ]
  },
  {
   "cell_type": "markdown",
   "id": "6841ba87",
   "metadata": {},
   "source": [
    "## Write two functions for database management\n",
    "\n",
    "First, we should generate a new file called `app.py`, and we can write our functions in this file."
   ]
  },
  {
   "cell_type": "markdown",
   "id": "d511492b",
   "metadata": {},
   "source": [
    "### - `get_message_db() `\n",
    "\n",
    "This function should handle creating the database of messages."
   ]
  },
  {
   "cell_type": "code",
   "execution_count": null,
   "id": "a1532f1a",
   "metadata": {},
   "outputs": [],
   "source": [
    "def get_message_db():\n",
    "    \n",
    "    # Check if there is our database in the g attribute of the app, \n",
    "    # and connect to that database if not\n",
    "    if 'message_db' not in g:\n",
    "        g.message_db = sqlite3.connect('messages_db.sqlite')\n",
    "    \n",
    "    cursor = g.message_db.cursor()\n",
    "    \n",
    "    # Check whether a table called messages exists in message_db, \n",
    "    # and create it if not. \n",
    "    # messages table have three columns, which are id, handle, and message.\n",
    "    cursor.execute('CREATE TABLE IF NOT EXISTS messages(id INT, handle TEXT, message TEXT);')\n",
    "\n",
    "    return g.message_db"
   ]
  },
  {
   "cell_type": "markdown",
   "id": "9faa40ce",
   "metadata": {},
   "source": [
    "### - `insert_message(request)` \n",
    "\n",
    "This function should insert input messages into the database of messages."
   ]
  },
  {
   "cell_type": "code",
   "execution_count": null,
   "id": "b85dc5b7",
   "metadata": {},
   "outputs": [],
   "source": [
    "def insert_message(request):\n",
    "    \n",
    "    # Reconnect to the database\n",
    "    db = get_message_db()\n",
    "    cursor = db.cursor()\n",
    "    \n",
    "    # Extract the message and the handle column from the database\n",
    "    message = request.form[\"message\"]\n",
    "    handle = request.form[\"handle\"]\n",
    "    \n",
    "    # Insert one user's message into the database\n",
    "    row_num = cursor.execute(\"SELECT COUNT(*) FROM messages;\").fetchone()[0]\n",
    "    cursor.execute(f\"\"\"INSERT INTO messages (id, handle, message) VALUES ({row_num + 1}, \"{handle}\", \"{message}\");\"\"\")\n",
    "    \n",
    "    # db.commit() ensure our row insertion has been saved.\n",
    "    db.commit()\n",
    "    \n",
    "    # close the database\n",
    "    db.close()"
   ]
  },
  {
   "cell_type": "markdown",
   "id": "f3c1ba36",
   "metadata": {},
   "source": [
    "## Submit page"
   ]
  },
  {
   "cell_type": "markdown",
   "id": "dded0522",
   "metadata": {},
   "source": [
    "### - `submit.html`"
   ]
  },
  {
   "cell_type": "markdown",
   "id": "876a2988",
   "metadata": {},
   "source": [
    "There are three user interface elements in `submit.html` template:\n",
    "\n",
    "1. A submitting message box\n",
    "2. A submitting user's name box\n",
    "3. A “submit” button\n",
    "\n",
    "If the text format is right, then print a message thanking the submission. \n",
    "\n",
    "If wrong, printing a error message telling them to input a vaild message again."
   ]
  },
  {
   "cell_type": "markdown",
   "id": "02ddba4f",
   "metadata": {},
   "source": [
    "```html\n",
    "{% raw %}\n",
    "{% extends 'base.html' %}\n",
    "\n",
    "{% block header %}\n",
    "  <h1>{% block title %}Leave your message{% endblock %}</h1>\n",
    "{% endblock %}\n",
    "\n",
    "{% block content %}\n",
    "  <form method=\"post\" enctype=\"multipart/form-data\">\n",
    "      <label for=\"handle\">What's your name?</label>\n",
    "      <br>\n",
    "      <input name=\"handle\" id=\"handle\">\n",
    "      <br><br>\n",
    "      <label for=\"message\">What message do you have for Linqiao?</label>\n",
    "      <br>\n",
    "      <input type=\"text\" name=\"message\" id=\"message\">\n",
    "      <br><br>\n",
    "      <input type=\"submit\" value=\"Submit message\">\n",
    "  </form>\n",
    "\n",
    "  {% if thanks %}\n",
    "    <br>\n",
    "    Thanks for posting your message!\n",
    "  {% endif %}\n",
    "\n",
    "  {% if error %}\n",
    "    <br>\n",
    "    Sorry, we couldn't read it. Please submit a vaild input.\n",
    "  {% endif %}\n",
    "{% endblock %}\n",
    "{% endraw %}\n",
    "```"
   ]
  },
  {
   "cell_type": "markdown",
   "id": "d49e408b",
   "metadata": {},
   "source": [
    "Create a submit page by rendering `submit.html` template.\n",
    "\n",
    "If in the **GET** case, just returning the template.\n",
    "\n",
    "If in the **POST** case, then we will insert the message to hte database and response the user according to the validity of their input."
   ]
  },
  {
   "cell_type": "code",
   "execution_count": null,
   "id": "0d37f00a",
   "metadata": {},
   "outputs": [],
   "source": [
    "@app.route('/submit/', methods=['POST', 'GET'])\n",
    "def submit():\n",
    "\n",
    "    if request.method == 'GET':\n",
    "        return render_template('submit.html')\n",
    "    else:\n",
    "        try:\n",
    "            insert_message(request)\n",
    "            return render_template('submit.html', thanks = True)\n",
    "        except:\n",
    "            return render_template('submit.html', error = True)"
   ]
  },
  {
   "cell_type": "markdown",
   "id": "6d937427",
   "metadata": {},
   "source": [
    "![blog3_submit.png](/images/blog3_submit.png)"
   ]
  },
  {
   "cell_type": "markdown",
   "id": "20f42d04",
   "metadata": {},
   "source": [
    "## View page"
   ]
  },
  {
   "cell_type": "markdown",
   "id": "e827ca85",
   "metadata": {},
   "source": [
    "### - `view.html`"
   ]
  },
  {
   "cell_type": "markdown",
   "id": "f5132dda",
   "metadata": {},
   "source": [
    "View some users' messages in this page."
   ]
  },
  {
   "cell_type": "markdown",
   "id": "7ea161b0",
   "metadata": {},
   "source": [
    "```html\n",
    "{% raw %}\n",
    "{% extends 'base.html' %}\n",
    "\n",
    "{% block header %}\n",
    "  <h1>{% block title %}Message board{% endblock %}</h1>\n",
    "{% endblock %}\n",
    "\n",
    "{% block content %}\n",
    "<ul>\n",
    "  {% for m in messages %}\n",
    "    <br><br> \n",
    "      <li>{{m[1]}}</li>\n",
    "      <br> \n",
    "      <i>--- {{m[0]}}</i>\n",
    "  {% endfor %}\n",
    "</ul>\n",
    "  \n",
    "{% endblock %}\n",
    "{% endraw %}\n",
    "```"
   ]
  },
  {
   "cell_type": "markdown",
   "id": "ac8bad92",
   "metadata": {},
   "source": [
    "## Viewing Random Messages"
   ]
  },
  {
   "cell_type": "markdown",
   "id": "5daf026d",
   "metadata": {},
   "source": [
    "### - `random_messages(n)` \n",
    "\n",
    "This function should return n random messages from the message_db. "
   ]
  },
  {
   "cell_type": "code",
   "execution_count": null,
   "id": "81ac29b9",
   "metadata": {},
   "outputs": [],
   "source": [
    "def random_messages(n):\n",
    "    \n",
    "    # Reconnect to the database\n",
    "    db = get_message_db()\n",
    "    cursor = db.cursor()\n",
    "\n",
    "    row_num = cursor.execute(\"SELECT COUNT(*) FROM messages;\").fetchone()[0]\n",
    "    \n",
    "    # if the input number is more than the number of rows of data stored in the database\n",
    "    # we will print all the data in the database\n",
    "    if n > row_num:\n",
    "        n = row_num\n",
    "    \n",
    "    # Randomly pick n messages corresponding to the user's handle from the database\n",
    "    ran_messages = cursor.execute(f\"\"\"SELECT handle, message FROM messages ORDER BY RANDOM() LIMIT {n};\"\"\").fetchall()\n",
    "    \n",
    "    # close the database\n",
    "    db.close()\n",
    "\n",
    "    return ran_messages"
   ]
  },
  {
   "cell_type": "markdown",
   "id": "3b228297",
   "metadata": {},
   "source": [
    "{::options parse_block_html=\"true\" /}\n",
    "<div class=\"got-help\">\n",
    "    \n",
    "I used to use the for loop to extract the n random messages for my `random_messages(n)` function, which takes more space than my current code.\n",
    "    \n",
    "Then, I use `fetchone()` to grab the messages but there is merely one character appearing for both user's handle and message. Then, I found the difference between `fetchall()` and `fetchone()` that `fetchall()` can fetch all the rows of a query result but `fetchone()` only returns a single record. So, using `fetchall()` when we need to catch more information.\n",
    "     \n",
    "</div>\n",
    "{::options parse_block_html=\"false\" /}"
   ]
  },
  {
   "cell_type": "markdown",
   "id": "ba8236f2",
   "metadata": {},
   "source": [
    "Use `random_messages(n)` function to print n messages, here I choose n=5, which the view pages will print 5 messages corresponding to the users."
   ]
  },
  {
   "cell_type": "code",
   "execution_count": null,
   "id": "94123339",
   "metadata": {},
   "outputs": [],
   "source": [
    "@app.route('/view/')\n",
    "def view():\n",
    "\n",
    "    ran_messages = random_messages(5)\n",
    "\n",
    "    return render_template('view.html', messages = ran_messages)"
   ]
  },
  {
   "cell_type": "markdown",
   "id": "58cd081b",
   "metadata": {},
   "source": [
    "![blog3_view.png](/images/blog3_view.png)"
   ]
  },
  {
   "cell_type": "markdown",
   "id": "a339d18f",
   "metadata": {},
   "source": [
    "# §4. Build Webpage"
   ]
  },
  {
   "cell_type": "markdown",
   "id": "5dfa7196",
   "metadata": {},
   "source": [
    "Cool! we can combine and organize all functions in the `app.py` above and put all `.html` templates to `template` file.\n",
    "\n",
    "Do not forget to import the library we need to use."
   ]
  },
  {
   "cell_type": "code",
   "execution_count": null,
   "id": "5869ba83",
   "metadata": {},
   "outputs": [],
   "source": [
    "from flask import Flask, g, render_template, request\n",
    "import sqlite3\n",
    "\n",
    "\n",
    "app = Flask(__name__)\n",
    "\n",
    "@app.route('/')\n",
    "def main():\n",
    "\n",
    "    return render_template('main.html')\n",
    "\n",
    "\n",
    "@app.route('/submit/', methods=['POST', 'GET'])\n",
    "def submit():\n",
    "\n",
    "    if request.method == 'GET':\n",
    "        return render_template('submit.html')\n",
    "    else:\n",
    "        try:\n",
    "            insert_message(request)\n",
    "            return render_template('submit.html', thanks = True)\n",
    "        except:\n",
    "            return render_template('submit.html', error = True)\n",
    "\n",
    "\n",
    "@app.route('/view/')\n",
    "def view():\n",
    "\n",
    "    ran_messages = random_messages(5)\n",
    "\n",
    "    return render_template('view.html', messages = ran_messages)\n",
    "\n",
    "\n",
    "\n",
    "def get_message_db():\n",
    "\n",
    "    if 'message_db' not in g:\n",
    "        g.message_db = sqlite3.connect('messages_db.sqlite')\n",
    "    \n",
    "    cursor = g.message_db.cursor()\n",
    "\n",
    "    cursor.execute('CREATE TABLE IF NOT EXISTS messages(id INT, handle TEXT, message TEXT);')\n",
    "\n",
    "    return g.message_db\n",
    "\n",
    "\n",
    "def insert_message(request):\n",
    "\n",
    "    db = get_message_db()\n",
    "    cursor = db.cursor()\n",
    "\n",
    "    message = request.form[\"message\"]\n",
    "    handle = request.form[\"handle\"]\n",
    "\n",
    "    row_num = cursor.execute(\"SELECT COUNT(*) FROM messages;\").fetchone()[0]\n",
    "    cursor.execute(f\"\"\"INSERT INTO messages (id, handle, message) VALUES ({row_num + 1}, \"{handle}\", \"{message}\");\"\"\")\n",
    "    db.commit()\n",
    "\n",
    "    db.close()\n",
    "\n",
    "\n",
    "def random_messages(n):\n",
    "\n",
    "    db = get_message_db()\n",
    "    cursor = db.cursor()\n",
    "\n",
    "    row_num = cursor.execute(\"SELECT COUNT(*) FROM messages;\").fetchone()[0]\n",
    "\n",
    "    if n > row_num:\n",
    "        n = row_num\n",
    "\n",
    "    ran_messages = cursor.execute(f\"\"\"SELECT handle, message FROM messages ORDER BY RANDOM() LIMIT {n};\"\"\").fetchall()\n",
    "\n",
    "    db.close()\n",
    "\n",
    "    return ran_messages"
   ]
  },
  {
   "cell_type": "markdown",
   "id": "62d560b0",
   "metadata": {},
   "source": [
    "# §5. Customize Your App"
   ]
  },
  {
   "cell_type": "markdown",
   "id": "99f7a245",
   "metadata": {},
   "source": [
    "Back to our `base.html`, you can see there is a navigation in line 5:\n",
    "```python\n",
    "<link rel=\"stylesheet\" href=\"{{ url_for('static', filename='style.css') }}\">\n",
    "```\n",
    "It directs to the `style.css` on the `static` file. And, we can change the style of our webapp by adjusting the content of `style.css`.\n",
    "\n",
    "For more details, you can go through my `style.css` in my GitHub repository link that I attach in the end."
   ]
  },
  {
   "cell_type": "markdown",
   "id": "ef0ff38c",
   "metadata": {},
   "source": [
    "{::options parse_block_html=\"true\" /}\n",
    "<div class=\"got-help\">\n",
    "    \n",
    "When I made changes to the `style.css` on my site, and I refreshed the site, none of the changes were there.\n",
    "Then, I found the solution by googling that I can update my web by using this: \n",
    "    \n",
    "`Cmd` + `Shift` + `R`\n",
    "\n",
    "This will force my browser to reload and refresh all the resources related to the website page.\n",
    "\n",
    "So every time I change something in your `style.css` and I wanna view the new results immediately, use this.\n",
    "    \n",
    "The solution link is :\n",
    "    \n",
    "https://stackoverflow.com/questions/12717993/stylesheet-not-updating-when-i-refresh-my-site\n",
    "    \n",
    "</div>\n",
    "{::options parse_block_html=\"false\" /}"
   ]
  },
  {
   "cell_type": "markdown",
   "id": "4709bdf8",
   "metadata": {},
   "source": [
    "# §6. Open our Webapp"
   ]
  },
  {
   "cell_type": "markdown",
   "id": "100cc623",
   "metadata": {},
   "source": [
    "Finally, we need to run these lines on terminal and then obtain our serve address of our webapp:\n",
    "\n",
    "**export FLASK_ENV=development; flask run**"
   ]
  },
  {
   "cell_type": "markdown",
   "id": "47d56217",
   "metadata": {},
   "source": [
    "Congratulations! We're done with our webapp."
   ]
  },
  {
   "cell_type": "markdown",
   "id": "acdc68fd",
   "metadata": {},
   "source": [
    "Here’s the link to my GitHub repository containing the code for the app.:\n",
    "\n",
    "https://github.com/FelixLQJiang/Blog/tree/main/blog3/app"
   ]
  }
 ],
 "metadata": {
  "kernelspec": {
   "display_name": "Python [conda env:PIC16B] *",
   "language": "python",
   "name": "conda-env-PIC16B-py"
  },
  "language_info": {
   "codemirror_mode": {
    "name": "ipython",
    "version": 3
   },
   "file_extension": ".py",
   "mimetype": "text/x-python",
   "name": "python",
   "nbconvert_exporter": "python",
   "pygments_lexer": "ipython3",
   "version": "3.7.7"
  }
 },
 "nbformat": 4,
 "nbformat_minor": 5
}
