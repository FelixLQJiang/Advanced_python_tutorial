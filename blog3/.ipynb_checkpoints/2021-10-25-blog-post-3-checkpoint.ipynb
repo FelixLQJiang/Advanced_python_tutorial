{
 "cells": [
  {
   "cell_type": "markdown",
   "id": "ac4a9f2f",
   "metadata": {},
   "source": [
    "---\n",
    "layout: post\n",
    "title: Blog Post 3\n",
    "---\n",
    "\n",
    "In this blog post, we’ll learn how to create a simple webapp using Flask. "
   ]
  },
  {
   "cell_type": "markdown",
   "id": "cc0da3d7",
   "metadata": {},
   "source": [
    "Here’s the link to my GitHub repository containing the code for the app.:\n",
    "\n",
    "https://github.com/FelixLQJiang/Blog/tree/main/blog3/app"
   ]
  },
  {
   "cell_type": "markdown",
   "id": "0160ea7a",
   "metadata": {},
   "source": [
    "# §1. What are we going to do?"
   ]
  },
  {
   "cell_type": "markdown",
   "id": "17e13a41",
   "metadata": {},
   "source": [
    "We want to create a webapp including 3 pages:\n",
    "\n",
    "1. **Main page**\n",
    "2. **Submit a message**\n",
    "3. **View messages**\n",
    "\n",
    "For these pages, we need to create 3 templates seperately, which are `main.html`, `submit.html`, `view.html`.\n",
    "\n",
    "Also, these 3 templates are supposed to be including in `base.html`."
   ]
  },
  {
   "cell_type": "markdown",
   "id": "3cd24381",
   "metadata": {},
   "source": [
    "# §2. Design template"
   ]
  },
  {
   "cell_type": "markdown",
   "id": "511c4ff9",
   "metadata": {},
   "source": [
    "## - `base.html`"
   ]
  },
  {
   "cell_type": "markdown",
   "id": "76ed9b4e",
   "metadata": {},
   "source": [
    "It can handle all the pages we will see in our website."
   ]
  },
  {
   "cell_type": "markdown",
   "id": "11341972",
   "metadata": {},
   "source": [
    "```html\n",
    "{% raw %}\n",
    "<!doctype html>\n",
    "<title>{% block title %}{% endblock %} - Linqiao's Message Bank</title>\n",
    "<link rel=\"stylesheet\" href=\"{{ url_for('static', filename='style.css') }}\">\n",
    "<nav>\n",
    "  <h1>Linqiao's Message Bank</h1>\n",
    "  <!-- <b>Navigation:</b> -->\n",
    "  <ul>\n",
    "    <li><a href=\"{{ url_for('submit') }}\">Submit a message</a></li>\n",
    "    <li><a href=\"{{ url_for('view') }}\">View messages</a></li>\n",
    "  </ul>\n",
    "</nav>\n",
    "<section class=\"content\">\n",
    "  <header>\n",
    "    {% block header %}{% endblock %}\n",
    "  </header>\n",
    "  {% block content %}{% endblock %}\n",
    "</section>\n",
    "{% endraw %}\n",
    "```"
   ]
  },
  {
   "cell_type": "markdown",
   "id": "f8ecd749",
   "metadata": {},
   "source": [
    "## - `main.html`"
   ]
  },
  {
   "cell_type": "markdown",
   "id": "45f93005",
   "metadata": {},
   "source": [
    "WELCOME page!"
   ]
  },
  {
   "cell_type": "markdown",
   "id": "2fdc5270",
   "metadata": {},
   "source": [
    "```html\n",
    "{% raw %}\n",
    "{% extends 'base.html' %}\n",
    "\n",
    "{% block header %}\n",
    "  <h1>{% block title %}Welcome{% endblock %}</h1>\n",
    "{% endblock %}\n",
    "\n",
    "{% block content %}\n",
    "  <p>Welcome to Linqiao's Message Board!</p>\n",
    "{% endblock %}\n",
    "{% endraw %}\n",
    "```"
   ]
  },
  {
   "cell_type": "markdown",
   "id": "34d1a09e",
   "metadata": {},
   "source": [
    "## - `submit.html`"
   ]
  },
  {
   "cell_type": "markdown",
   "id": "1b4ef2ae",
   "metadata": {},
   "source": [
    "There are three user interface elements in `submit.html` template:\n",
    "\n",
    "1. A submitting message box\n",
    "2. A submitting user's name box\n",
    "3. A “submit” button\n",
    "\n",
    "If the text format is right, then print a message thanking the submission. If wrong, printing a error message telling them to input a vaild message again."
   ]
  },
  {
   "cell_type": "markdown",
   "id": "b63d3101",
   "metadata": {},
   "source": [
    "```html\n",
    "{% raw %}\n",
    "{% extends 'base.html' %}\n",
    "\n",
    "{% block header %}\n",
    "  <h1>{% block title %}Leave your message{% endblock %}</h1>\n",
    "{% endblock %}\n",
    "\n",
    "{% block content %}\n",
    "  <form method=\"post\" enctype=\"multipart/form-data\">\n",
    "      <label for=\"handle\">What's your name?</label>\n",
    "      <br>\n",
    "      <input name=\"handle\" id=\"handle\">\n",
    "      <br><br>\n",
    "      <label for=\"message\">What message do you have for Linqiao?</label>\n",
    "      <br>\n",
    "      <input type=\"text\" name=\"message\" id=\"message\">\n",
    "      <br><br>\n",
    "      <input type=\"submit\" value=\"Submit message\">\n",
    "  </form>\n",
    "\n",
    "  {% if thanks %}\n",
    "    <br>\n",
    "    Thanks for posting your message!\n",
    "  {% endif %}\n",
    "\n",
    "  {% if error %}\n",
    "    <br>\n",
    "    Sorry, we couldn't read it. Please submit a vaild input.\n",
    "  {% endif %}\n",
    "{% endblock %}\n",
    "{% endraw %}\n",
    "```"
   ]
  },
  {
   "cell_type": "markdown",
   "id": "1bfa16a8",
   "metadata": {},
   "source": [
    "## - `view.html`"
   ]
  },
  {
   "cell_type": "markdown",
   "id": "14cebd18",
   "metadata": {},
   "source": [
    "View some users' messages in this page."
   ]
  },
  {
   "cell_type": "markdown",
   "id": "b91476f9",
   "metadata": {},
   "source": [
    "```html\n",
    "{% raw %}\n",
    "{% extends 'base.html' %}\n",
    "\n",
    "{% block header %}\n",
    "  <h1>{% block title %}Message board{% endblock %}</h1>\n",
    "{% endblock %}\n",
    "\n",
    "{% block content %}\n",
    "<ul>\n",
    "  {% for m in messages %}\n",
    "    <br><br> \n",
    "      <li>{{m[1]}}</li>\n",
    "      <br> \n",
    "      <i>--- {{m[0]}}</i>\n",
    "  {% endfor %}\n",
    "</ul>\n",
    "  \n",
    "{% endblock %}\n",
    "{% endraw %}\n",
    "```"
   ]
  },
  {
   "cell_type": "markdown",
   "id": "096d3056",
   "metadata": {},
   "source": [
    "# §3. Setup"
   ]
  },
  {
   "cell_type": "markdown",
   "id": "28950c06",
   "metadata": {},
   "source": [
    "First, we should generate a new file called `app.py`, and we can write our functions in this file.\n",
    "\n",
    "## Write two functions for database management"
   ]
  },
  {
   "cell_type": "markdown",
   "id": "22aeab22",
   "metadata": {},
   "source": [
    "### - `get_message_db() `\n",
    "\n",
    "This function should handle creating the database of messages."
   ]
  },
  {
   "cell_type": "code",
   "execution_count": null,
   "id": "ca08033b",
   "metadata": {},
   "outputs": [],
   "source": [
    "def get_message_db():\n",
    "    \n",
    "    # Check if there is our database in the g attribute of the app, \n",
    "    # and connect to that database if not\n",
    "    if 'message_db' not in g:\n",
    "        g.message_db = sqlite3.connect('messages_db.sqlite')\n",
    "    \n",
    "    cursor = g.message_db.cursor()\n",
    "    \n",
    "    # Check whether a table called messages exists in message_db, \n",
    "    # and create it if not. \n",
    "    # messages table have three columns, which are id, handle, and message.\n",
    "    cursor.execute('CREATE TABLE IF NOT EXISTS messages(id INT, handle TEXT, message TEXT);')\n",
    "\n",
    "    return g.message_db"
   ]
  },
  {
   "cell_type": "markdown",
   "id": "3622c391",
   "metadata": {},
   "source": [
    "### - `insert_message(request)` \n",
    "\n",
    "This function should insert input messages into the database of messages."
   ]
  },
  {
   "cell_type": "code",
   "execution_count": null,
   "id": "4e2bc946",
   "metadata": {},
   "outputs": [],
   "source": [
    "def insert_message(request):\n",
    "    \n",
    "    # Reconnect to the database\n",
    "    db = get_message_db()\n",
    "    cursor = db.cursor()\n",
    "    \n",
    "    # Extract the message and the handle column from the database\n",
    "    message = request.form[\"message\"]\n",
    "    handle = request.form[\"handle\"]\n",
    "    \n",
    "    # Insert one user's message into the database\n",
    "    row_num = cursor.execute(\"SELECT COUNT(*) FROM messages;\").fetchone()[0]\n",
    "    cursor.execute(f\"\"\"INSERT INTO messages (id, handle, message) VALUES ({row_num + 1}, \"{handle}\", \"{message}\");\"\"\")\n",
    "    \n",
    "    # db.commit() ensure our row insertion has been saved.\n",
    "    db.commit()\n",
    "    \n",
    "    # close the database\n",
    "    db.close()"
   ]
  },
  {
   "cell_type": "markdown",
   "id": "89e4f826",
   "metadata": {},
   "source": [
    "## Viewing Random Messages"
   ]
  },
  {
   "cell_type": "markdown",
   "id": "e28f90e8",
   "metadata": {},
   "source": [
    "### - `random_messages(n)` \n",
    "\n",
    "This function should return n random messages from the message_db. "
   ]
  },
  {
   "cell_type": "code",
   "execution_count": null,
   "id": "28a03619",
   "metadata": {},
   "outputs": [],
   "source": [
    "def random_messages(n):\n",
    "    \n",
    "    # Reconnect to the database\n",
    "    db = get_message_db()\n",
    "    cursor = db.cursor()\n",
    "\n",
    "    row_num = cursor.execute(\"SELECT COUNT(*) FROM messages;\").fetchone()[0]\n",
    "    \n",
    "    # if the input number is more than the number of rows of data stored in the database\n",
    "    # we will print all the data in the database\n",
    "    if n > row_num:\n",
    "        n = row_num\n",
    "    \n",
    "    # Randomly pick n messages corresponding to the user's handle from the database\n",
    "    # collect the n messages into a list \n",
    "    ran_messages = []\n",
    "    for i in range(n):\n",
    "        ran_message = cursor.execute(\"SELECT handle, message FROM messages ORDER BY RANDOM() LIMIT 1;\").fetchone()\n",
    "        ran_messages.append(ran_message)\n",
    "    \n",
    "    # close the database\n",
    "    db.close()\n",
    "\n",
    "    return ran_messages"
   ]
  },
  {
   "cell_type": "markdown",
   "id": "80ddbef0",
   "metadata": {},
   "source": [
    "# §4. Build Webpage"
   ]
  },
  {
   "cell_type": "markdown",
   "id": "9fe3ca52",
   "metadata": {},
   "source": [
    "Great! we can write the functions for each webpages by using the three functions and desgined templates above. "
   ]
  },
  {
   "cell_type": "code",
   "execution_count": null,
   "id": "652c11f5",
   "metadata": {},
   "outputs": [],
   "source": [
    "app = Flask(__name__)\n",
    "\n",
    "# The main page\n",
    "@app.route('/')\n",
    "def main():\n",
    "\n",
    "    return render_template('main.html')\n",
    "\n",
    "# The submission page\n",
    "# Transmit and receive data\n",
    "@app.route('/submit/', methods=['POST', 'GET'])\n",
    "def submit():\n",
    "\n",
    "    if request.method == 'GET':\n",
    "        return render_template('submit.html')\n",
    "    else:\n",
    "        try:\n",
    "            insert_message(request)\n",
    "            return render_template('submit.html', thanks = True)\n",
    "        except:\n",
    "            return render_template('submit.html', error = True)\n",
    "\n",
    "# The view page\n",
    "# Print 5 random user's messages\n",
    "@app.route('/view/')\n",
    "def view():\n",
    "\n",
    "    ran_messages = random_messages(5) # You can change the number of the viewing messages\n",
    "\n",
    "    return render_template('view.html', messages = ran_messages)"
   ]
  },
  {
   "cell_type": "markdown",
   "id": "b86fc00f",
   "metadata": {},
   "source": []
  },
  {
   "cell_type": "code",
   "execution_count": null,
   "id": "200a384b",
   "metadata": {},
   "outputs": [],
   "source": []
  },
  {
   "cell_type": "code",
   "execution_count": null,
   "id": "47380ca7",
   "metadata": {},
   "outputs": [],
   "source": []
  },
  {
   "cell_type": "code",
   "execution_count": null,
   "id": "76ccda3d",
   "metadata": {},
   "outputs": [],
   "source": []
  },
  {
   "cell_type": "code",
   "execution_count": null,
   "id": "f6b92f8e",
   "metadata": {},
   "outputs": [],
   "source": []
  },
  {
   "cell_type": "code",
   "execution_count": null,
   "id": "39d9be4c",
   "metadata": {},
   "outputs": [],
   "source": []
  },
  {
   "cell_type": "code",
   "execution_count": null,
   "id": "6b7d9282",
   "metadata": {},
   "outputs": [],
   "source": []
  },
  {
   "cell_type": "code",
   "execution_count": null,
   "id": "e56a33df",
   "metadata": {},
   "outputs": [],
   "source": []
  },
  {
   "cell_type": "code",
   "execution_count": null,
   "id": "895b6cbc",
   "metadata": {},
   "outputs": [],
   "source": []
  },
  {
   "cell_type": "code",
   "execution_count": null,
   "id": "267ad1de",
   "metadata": {},
   "outputs": [],
   "source": []
  }
 ],
 "metadata": {
  "kernelspec": {
   "display_name": "Python [conda env:PIC16B] *",
   "language": "python",
   "name": "conda-env-PIC16B-py"
  },
  "language_info": {
   "codemirror_mode": {
    "name": "ipython",
    "version": 3
   },
   "file_extension": ".py",
   "mimetype": "text/x-python",
   "name": "python",
   "nbconvert_exporter": "python",
   "pygments_lexer": "ipython3",
   "version": "3.7.7"
  }
 },
 "nbformat": 4,
 "nbformat_minor": 5
}
