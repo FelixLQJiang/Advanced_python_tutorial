{
 "cells": [
  {
   "cell_type": "markdown",
   "id": "ac4a9f2f",
   "metadata": {},
   "source": [
    "---\n",
    "layout: post\n",
    "title: Blog Post 3\n",
    "---\n",
    "\n",
    "In this blog post, we’ll learn how to create a simple webapp using Flask. "
   ]
  },
  {
   "cell_type": "markdown",
   "id": "ef4525ce",
   "metadata": {},
   "source": [
    "Here’s the link to my GitHub repository containing the code for the app.:\n",
    "\n",
    "https://github.com/FelixLQJiang/Blog/tree/main/blog3/app"
   ]
  },
  {
   "cell_type": "markdown",
   "id": "d923872d",
   "metadata": {},
   "source": [
    "**I built my `app` file based on the example apps from the lecture and discussion, it is noted.**"
   ]
  },
  {
   "cell_type": "markdown",
   "id": "dc15747b",
   "metadata": {},
   "source": [
    "# §1. What are we going to do?"
   ]
  },
  {
   "cell_type": "markdown",
   "id": "c1c97ceb",
   "metadata": {},
   "source": [
    "We want to create a webapp including 3 pages:\n",
    "\n",
    "1. **Main page**\n",
    "2. **Submit a message**\n",
    "3. **View messages**\n",
    "\n",
    "For these pages, we need to create 3 templates seperately, which are `main.html`, `submit.html`, `view.html`.\n",
    "\n",
    "Also, these 3 templates are supposed to be including in `base.html`."
   ]
  },
  {
   "cell_type": "markdown",
   "id": "d5e7126c",
   "metadata": {},
   "source": [
    "# §2. Setup"
   ]
  },
  {
   "cell_type": "markdown",
   "id": "e2398fb7",
   "metadata": {},
   "source": [
    "## Base page"
   ]
  },
  {
   "cell_type": "markdown",
   "id": "33debc42",
   "metadata": {},
   "source": [
    "### - `base.html`"
   ]
  },
  {
   "cell_type": "markdown",
   "id": "9bc011d0",
   "metadata": {},
   "source": [
    "It can handle all the pages we will see on our website, which are `submit` page and `view` page. The reason why we do not contain our `main` page in it is that we only need our main(welcome) page to appear in the very beginning."
   ]
  },
  {
   "cell_type": "markdown",
   "id": "ca4a0925",
   "metadata": {},
   "source": [
    "```html\n",
    "{% raw %}\n",
    "<!doctype html>\n",
    "<title>{% block title %}{% endblock %} - Linqiao's Message Bank</title>\n",
    "<link rel=\"stylesheet\" href=\"{{ url_for('static', filename='style.css') }}\">\n",
    "<nav>\n",
    "  <h1>Linqiao's Message Bank</h1>\n",
    "  <!-- <b>Navigation:</b> -->\n",
    "  <ul>\n",
    "    <li><a href=\"{{ url_for('submit') }}\">Submit a message</a></li>\n",
    "    <li><a href=\"{{ url_for('view') }}\">View messages</a></li>\n",
    "  </ul>\n",
    "</nav>\n",
    "<section class=\"content\">\n",
    "  <header>\n",
    "    {% block header %}{% endblock %}\n",
    "  </header>\n",
    "  {% block content %}{% endblock %}\n",
    "</section>\n",
    "{% endraw %}\n",
    "```"
   ]
  },
  {
   "cell_type": "markdown",
   "id": "08140dc6",
   "metadata": {},
   "source": [
    "## Main page"
   ]
  },
  {
   "cell_type": "markdown",
   "id": "293772a4",
   "metadata": {},
   "source": [
    "### - `main.html`"
   ]
  },
  {
   "cell_type": "markdown",
   "id": "40a5b4e0",
   "metadata": {},
   "source": [
    "```html\n",
    "{% raw %}\n",
    "{% extends 'base.html' %}\n",
    "\n",
    "{% block header %}\n",
    "  <h1>{% block title %}Welcome{% endblock %}</h1>\n",
    "{% endblock %}\n",
    "\n",
    "{% block content %}\n",
    "  <p>Welcome to Linqiao's Message Board!</p>\n",
    "{% endblock %}\n",
    "{% endraw %}\n",
    "```"
   ]
  },
  {
   "cell_type": "markdown",
   "id": "b8257612",
   "metadata": {},
   "source": [
    "Create a WELCOME page by rendering `main.html` template."
   ]
  },
  {
   "cell_type": "code",
   "execution_count": null,
   "id": "43fd4ead",
   "metadata": {},
   "outputs": [],
   "source": [
    "@app.route('/')\n",
    "def main():\n",
    "\n",
    "    return render_template('main.html')"
   ]
  },
  {
   "cell_type": "markdown",
   "id": "163d7933",
   "metadata": {},
   "source": [
    "## Write two functions for database management\n",
    "\n",
    "First, we should generate a new file called `app.py`, and we can write our functions in this file."
   ]
  },
  {
   "cell_type": "markdown",
   "id": "ad7f8f0a",
   "metadata": {},
   "source": [
    "### - `get_message_db() `\n",
    "\n",
    "This function should handle creating the database of messages."
   ]
  },
  {
   "cell_type": "code",
   "execution_count": null,
   "id": "be86f40f",
   "metadata": {},
   "outputs": [],
   "source": [
    "def get_message_db():\n",
    "    \n",
    "    # Check if there is our database in the g attribute of the app, \n",
    "    # and connect to that database if not\n",
    "    if 'message_db' not in g:\n",
    "        g.message_db = sqlite3.connect('messages_db.sqlite')\n",
    "    \n",
    "    cursor = g.message_db.cursor()\n",
    "    \n",
    "    # Check whether a table called messages exists in message_db, \n",
    "    # and create it if not. \n",
    "    # messages table have three columns, which are id, handle, and message.\n",
    "    cursor.execute('CREATE TABLE IF NOT EXISTS messages(id INT, handle TEXT, message TEXT);')\n",
    "\n",
    "    return g.message_db"
   ]
  },
  {
   "cell_type": "markdown",
   "id": "feefea0e",
   "metadata": {},
   "source": [
    "### - `insert_message(request)` \n",
    "\n",
    "This function should insert input messages into the database of messages."
   ]
  },
  {
   "cell_type": "code",
   "execution_count": null,
   "id": "937948e4",
   "metadata": {},
   "outputs": [],
   "source": [
    "def insert_message(request):\n",
    "    \n",
    "    # Reconnect to the database\n",
    "    db = get_message_db()\n",
    "    cursor = db.cursor()\n",
    "    \n",
    "    # Extract the message and the handle column from the database\n",
    "    message = request.form[\"message\"]\n",
    "    handle = request.form[\"handle\"]\n",
    "    \n",
    "    # Insert one user's message into the database\n",
    "    row_num = cursor.execute(\"SELECT COUNT(*) FROM messages;\").fetchone()[0]\n",
    "    cursor.execute(f\"\"\"INSERT INTO messages (id, handle, message) VALUES ({row_num + 1}, \"{handle}\", \"{message}\");\"\"\")\n",
    "    \n",
    "    # db.commit() ensure our row insertion has been saved.\n",
    "    db.commit()\n",
    "    \n",
    "    # close the database\n",
    "    db.close()"
   ]
  },
  {
   "cell_type": "markdown",
   "id": "2c329f6c",
   "metadata": {},
   "source": [
    "## Submit page"
   ]
  },
  {
   "cell_type": "markdown",
   "id": "8c470033",
   "metadata": {},
   "source": [
    "### - `submit.html`"
   ]
  },
  {
   "cell_type": "markdown",
   "id": "086cc1aa",
   "metadata": {},
   "source": [
    "There are three user interface elements in `submit.html` template:\n",
    "\n",
    "1. A submitting message box\n",
    "2. A submitting user's name box\n",
    "3. A “submit” button\n",
    "\n",
    "If the text format is right, then print a message thanking the submission. If wrong, printing a error message telling them to input a vaild message again."
   ]
  },
  {
   "cell_type": "markdown",
   "id": "f7a1c974",
   "metadata": {},
   "source": [
    "```html\n",
    "{% raw %}\n",
    "{% extends 'base.html' %}\n",
    "\n",
    "{% block header %}\n",
    "  <h1>{% block title %}Leave your message{% endblock %}</h1>\n",
    "{% endblock %}\n",
    "\n",
    "{% block content %}\n",
    "  <form method=\"post\" enctype=\"multipart/form-data\">\n",
    "      <label for=\"handle\">What's your name?</label>\n",
    "      <br>\n",
    "      <input name=\"handle\" id=\"handle\">\n",
    "      <br><br>\n",
    "      <label for=\"message\">What message do you have for Linqiao?</label>\n",
    "      <br>\n",
    "      <input type=\"text\" name=\"message\" id=\"message\">\n",
    "      <br><br>\n",
    "      <input type=\"submit\" value=\"Submit message\">\n",
    "  </form>\n",
    "\n",
    "  {% if thanks %}\n",
    "    <br>\n",
    "    Thanks for posting your message!\n",
    "  {% endif %}\n",
    "\n",
    "  {% if error %}\n",
    "    <br>\n",
    "    Sorry, we couldn't read it. Please submit a vaild input.\n",
    "  {% endif %}\n",
    "{% endblock %}\n",
    "{% endraw %}\n",
    "```"
   ]
  },
  {
   "cell_type": "markdown",
   "id": "19663db5",
   "metadata": {},
   "source": [
    "Create a submit page by rendering `submit.html` template.\n",
    "\n",
    "If in the **GET** case, just returning the template.\n",
    "\n",
    "If in the **POST** case, then we will insert the message to hte database and response the user according to the validity of their input."
   ]
  },
  {
   "cell_type": "code",
   "execution_count": null,
   "id": "19d910a5",
   "metadata": {},
   "outputs": [],
   "source": [
    "@app.route('/submit/', methods=['POST', 'GET'])\n",
    "def submit():\n",
    "\n",
    "    if request.method == 'GET':\n",
    "        return render_template('submit.html')\n",
    "    else:\n",
    "        try:\n",
    "            insert_message(request)\n",
    "            return render_template('submit.html', thanks = True)\n",
    "        except:\n",
    "            return render_template('submit.html', error = True)"
   ]
  },
  {
   "cell_type": "markdown",
   "id": "50364f0f",
   "metadata": {},
   "source": [
    "## View page"
   ]
  },
  {
   "cell_type": "markdown",
   "id": "fc55b93d",
   "metadata": {},
   "source": [
    "### - `view.html`"
   ]
  },
  {
   "cell_type": "markdown",
   "id": "aba3bf55",
   "metadata": {},
   "source": [
    "View some users' messages in this page."
   ]
  },
  {
   "cell_type": "markdown",
   "id": "a6444e8a",
   "metadata": {},
   "source": [
    "```html\n",
    "{% raw %}\n",
    "{% extends 'base.html' %}\n",
    "\n",
    "{% block header %}\n",
    "  <h1>{% block title %}Message board{% endblock %}</h1>\n",
    "{% endblock %}\n",
    "\n",
    "{% block content %}\n",
    "<ul>\n",
    "  {% for m in messages %}\n",
    "    <br><br> \n",
    "      <li>{{m[1]}}</li>\n",
    "      <br> \n",
    "      <i>--- {{m[0]}}</i>\n",
    "  {% endfor %}\n",
    "</ul>\n",
    "  \n",
    "{% endblock %}\n",
    "{% endraw %}\n",
    "```"
   ]
  },
  {
   "cell_type": "markdown",
   "id": "2f23686d",
   "metadata": {},
   "source": [
    "## Viewing Random Messages"
   ]
  },
  {
   "cell_type": "markdown",
   "id": "0b0e3a74",
   "metadata": {},
   "source": [
    "### - `random_messages(n)` \n",
    "\n",
    "This function should return n random messages from the message_db. "
   ]
  },
  {
   "cell_type": "code",
   "execution_count": null,
   "id": "fbf63e43",
   "metadata": {},
   "outputs": [],
   "source": [
    "def random_messages(n):\n",
    "    \n",
    "    # Reconnect to the database\n",
    "    db = get_message_db()\n",
    "    cursor = db.cursor()\n",
    "\n",
    "    row_num = cursor.execute(\"SELECT COUNT(*) FROM messages;\").fetchone()[0]\n",
    "    \n",
    "    # if the input number is more than the number of rows of data stored in the database\n",
    "    # we will print all the data in the database\n",
    "    if n > row_num:\n",
    "        n = row_num\n",
    "    \n",
    "    # Randomly pick n messages corresponding to the user's handle from the database\n",
    "    # collect the n messages into a list \n",
    "    ran_messages = []\n",
    "    for i in range(n):\n",
    "        ran_message = cursor.execute(\"SELECT handle, message FROM messages ORDER BY RANDOM() LIMIT 1;\").fetchone()\n",
    "        ran_messages.append(ran_message)\n",
    "    \n",
    "    # close the database\n",
    "    db.close()\n",
    "\n",
    "    return ran_messages"
   ]
  },
  {
   "cell_type": "markdown",
   "id": "8335c733",
   "metadata": {},
   "source": [
    "Use `random_messages(n)` function to print n messages, here I choose n=5, which the view pages will print 5 messages corresponding to the users."
   ]
  },
  {
   "cell_type": "code",
   "execution_count": null,
   "id": "6c6e9781",
   "metadata": {},
   "outputs": [],
   "source": [
    "@app.route('/view/')\n",
    "def view():\n",
    "\n",
    "    ran_messages = random_messages(5)\n",
    "\n",
    "    return render_template('view.html', messages = ran_messages)"
   ]
  },
  {
   "cell_type": "markdown",
   "id": "9e90bde0",
   "metadata": {},
   "source": [
    "# §4. Build Webpage"
   ]
  },
  {
   "cell_type": "markdown",
   "id": "c9ebe046",
   "metadata": {},
   "source": [
    "Cool! we can combine and organize all functions in the `app.py` above and put all `.html` templates to `template` file.\n",
    "\n",
    "Do not forget to import the library we need to use."
   ]
  },
  {
   "cell_type": "code",
   "execution_count": null,
   "id": "d4b181d6",
   "metadata": {},
   "outputs": [],
   "source": [
    "from flask import Flask, g, render_template, request\n",
    "import sqlite3\n",
    "\n",
    "\n",
    "app = Flask(__name__)\n",
    "\n",
    "@app.route('/')\n",
    "def main():\n",
    "\n",
    "    return render_template('main.html')\n",
    "\n",
    "\n",
    "@app.route('/submit/', methods=['POST', 'GET'])\n",
    "def submit():\n",
    "\n",
    "    if request.method == 'GET':\n",
    "        return render_template('submit.html')\n",
    "    else:\n",
    "        try:\n",
    "            insert_message(request)\n",
    "            return render_template('submit.html', thanks = True)\n",
    "        except:\n",
    "            return render_template('submit.html', error = True)\n",
    "\n",
    "\n",
    "@app.route('/view/')\n",
    "def view():\n",
    "\n",
    "    ran_messages = random_messages(5)\n",
    "\n",
    "    return render_template('view.html', messages = ran_messages)\n",
    "\n",
    "\n",
    "\n",
    "def get_message_db():\n",
    "\n",
    "    if 'message_db' not in g:\n",
    "        g.message_db = sqlite3.connect('messages_db.sqlite')\n",
    "    \n",
    "    cursor = g.message_db.cursor()\n",
    "\n",
    "    cursor.execute('CREATE TABLE IF NOT EXISTS messages(id INT, handle TEXT, message TEXT);')\n",
    "\n",
    "    return g.message_db\n",
    "\n",
    "\n",
    "def insert_message(request):\n",
    "\n",
    "    db = get_message_db()\n",
    "    cursor = db.cursor()\n",
    "\n",
    "    message = request.form[\"message\"]\n",
    "    handle = request.form[\"handle\"]\n",
    "\n",
    "    row_num = cursor.execute(\"SELECT COUNT(*) FROM messages;\").fetchone()[0]\n",
    "    cursor.execute(f\"\"\"INSERT INTO messages (id, handle, message) VALUES ({row_num + 1}, \"{handle}\", \"{message}\");\"\"\")\n",
    "    db.commit()\n",
    "\n",
    "    db.close()\n",
    "\n",
    "\n",
    "def random_messages(n):\n",
    "\n",
    "    db = get_message_db()\n",
    "    cursor = db.cursor()\n",
    "\n",
    "    row_num = cursor.execute(\"SELECT COUNT(*) FROM messages;\").fetchone()[0]\n",
    "    \n",
    "    if n > row_num:\n",
    "        n = row_num\n",
    "\n",
    "    ran_messages = []\n",
    "\n",
    "    for i in range(n):\n",
    "        ran_message = cursor.execute(\"SELECT handle, message FROM messages ORDER BY RANDOM() LIMIT 1;\").fetchone()\n",
    "        ran_messages.append(ran_message)\n",
    "\n",
    "    db.close()\n",
    "\n",
    "    return ran_messages"
   ]
  },
  {
   "cell_type": "markdown",
   "id": "8e45f4a0",
   "metadata": {},
   "source": [
    "# §5. Customize Your App"
   ]
  },
  {
   "cell_type": "markdown",
   "id": "af37114e",
   "metadata": {},
   "source": [
    "Back to our `base.html`, you can see there is a navigation in line 5:\n",
    "```python\n",
    "<link rel=\"stylesheet\" href=\"{{ url_for('static', filename='style.css') }}\">\n",
    "```\n",
    "It directs to the `style.css` on the `static` file. And, we can change the style of our webapp by adjusting the content of `style.css`.\n",
    "\n",
    "For more details, you can go through my `style.css` in my GitHub repository link that I attach in the beginning."
   ]
  },
  {
   "cell_type": "markdown",
   "id": "e36161c9",
   "metadata": {},
   "source": [
    "# §6. Show Webapp"
   ]
  },
  {
   "cell_type": "markdown",
   "id": "4ba1d075",
   "metadata": {},
   "source": [
    "Great job! We're done with our webapp. Let's take a look."
   ]
  },
  {
   "cell_type": "markdown",
   "id": "0fd8b5cf",
   "metadata": {},
   "source": [
    "![blog3_main.png](/images/blog3_main.png)"
   ]
  },
  {
   "cell_type": "markdown",
   "id": "cab21840",
   "metadata": {},
   "source": [
    "![blog3_submit.png](/images/blog3_submit.png)"
   ]
  },
  {
   "cell_type": "markdown",
   "id": "58f49dc5",
   "metadata": {},
   "source": [
    "![blog3_view.png](/images/blog3_view.png)"
   ]
  },
  {
   "cell_type": "code",
   "execution_count": null,
   "id": "32931daa",
   "metadata": {},
   "outputs": [],
   "source": []
  },
  {
   "cell_type": "code",
   "execution_count": null,
   "id": "585a28ba",
   "metadata": {},
   "outputs": [],
   "source": []
  },
  {
   "cell_type": "code",
   "execution_count": null,
   "id": "e9c144ab",
   "metadata": {},
   "outputs": [],
   "source": []
  },
  {
   "cell_type": "code",
   "execution_count": null,
   "id": "f6507bb4",
   "metadata": {},
   "outputs": [],
   "source": []
  },
  {
   "cell_type": "code",
   "execution_count": null,
   "id": "5b4139f8",
   "metadata": {},
   "outputs": [],
   "source": []
  },
  {
   "cell_type": "code",
   "execution_count": null,
   "id": "62d5ef2c",
   "metadata": {},
   "outputs": [],
   "source": []
  }
 ],
 "metadata": {
  "kernelspec": {
   "display_name": "Python [conda env:PIC16B] *",
   "language": "python",
   "name": "conda-env-PIC16B-py"
  },
  "language_info": {
   "codemirror_mode": {
    "name": "ipython",
    "version": 3
   },
   "file_extension": ".py",
   "mimetype": "text/x-python",
   "name": "python",
   "nbconvert_exporter": "python",
   "pygments_lexer": "ipython3",
   "version": "3.7.7"
  }
 },
 "nbformat": 4,
 "nbformat_minor": 5
}
