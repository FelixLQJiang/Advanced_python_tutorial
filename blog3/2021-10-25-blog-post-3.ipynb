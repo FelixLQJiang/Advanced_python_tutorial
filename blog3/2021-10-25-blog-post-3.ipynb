{
 "cells": [
  {
   "cell_type": "markdown",
   "id": "ac4a9f2f",
   "metadata": {},
   "source": [
    "---\n",
    "layout: post\n",
    "title: Blog Post 3\n",
    "---\n",
    "\n",
    "In this blog post, we are going to learn how to make a web scraper and use webscraping to answer the following question:\n",
    "\n",
    "*What movie or TV shows share actors with your favorite movie or show?*"
   ]
  }
 ],
 "metadata": {
  "kernelspec": {
   "display_name": "Python [conda env:PIC16B] *",
   "language": "python",
   "name": "conda-env-PIC16B-py"
  },
  "language_info": {
   "codemirror_mode": {
    "name": "ipython",
    "version": 3
   },
   "file_extension": ".py",
   "mimetype": "text/x-python",
   "name": "python",
   "nbconvert_exporter": "python",
   "pygments_lexer": "ipython3",
   "version": "3.7.7"
  }
 },
 "nbformat": 4,
 "nbformat_minor": 5
}
