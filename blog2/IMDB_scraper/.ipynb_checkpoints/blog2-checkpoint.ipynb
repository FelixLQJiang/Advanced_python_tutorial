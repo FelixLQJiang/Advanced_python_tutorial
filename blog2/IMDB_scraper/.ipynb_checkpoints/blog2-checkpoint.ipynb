{
 "cells": [
  {
   "cell_type": "markdown",
   "id": "f261863f",
   "metadata": {},
   "source": [
    "FIrst, we need to open a terminal and use our PIC16B virtual environment to generate our webscraping project.\n",
    "\n",
    "Type the following code in terminal"
   ]
  },
  {
   "cell_type": "code",
   "execution_count": null,
   "id": "d1589cc2",
   "metadata": {},
   "outputs": [],
   "source": [
    "conda activate PIC16B\n",
    "scrapy startproject IMDB_scraper\n",
    "cd IMDB_scraper"
   ]
  },
  {
   "cell_type": "markdown",
   "id": "656176f8",
   "metadata": {},
   "source": [
    "Now, we get down to write your scraper. "
   ]
  },
  {
   "cell_type": "code",
   "execution_count": null,
   "id": "8c52b996",
   "metadata": {},
   "outputs": [],
   "source": [
    "import scrapy\n",
    "\n",
    "class ImdbSpider(scrapy.Spider):\n",
    "    name = 'imdb_spider'\n",
    "    \n",
    "    start_urls = ['https://www.imdb.com/title/tt0106145/']"
   ]
  },
  {
   "cell_type": "markdown",
   "id": "4c66483f",
   "metadata": {},
   "source": [
    "### 1. `parse(self, response)`"
   ]
  },
  {
   "cell_type": "code",
   "execution_count": null,
   "id": "8f816432",
   "metadata": {},
   "outputs": [],
   "source": [
    "def parse(self, response):\n",
    "\n",
    "    cast_crew  = response.css(\"a.ipc-metadata-list-item__icon-link\").attrib[\"href\"]\n",
    "        \n",
    "    if cast_crew is not None:\n",
    "        cast_crew = response.urljoin(cast_crew)  \n",
    "    \n",
    "        yield scrapy.Request(cast_crew, callback = self.parse_full_credits)"
   ]
  },
  {
   "cell_type": "markdown",
   "id": "8157ee20",
   "metadata": {},
   "source": [
    "### 2. `parse_full_credits(self, response)`"
   ]
  },
  {
   "cell_type": "code",
   "execution_count": null,
   "id": "d1dc0fae",
   "metadata": {},
   "outputs": [],
   "source": [
    "def parse_full_credits(self, response):\n",
    " \n",
    "    for actor_link in [a.attrib[\"href\"] for a in response.css(\"td.primary_photo a\")]:\n",
    "\n",
    "        if actor_link is not None:\n",
    "            actor_link = response.urljoin(actor_link)  \n",
    "        \n",
    "        yield scrapy.Request(actor_link, callback = self.parse_actor_page)"
   ]
  },
  {
   "cell_type": "markdown",
   "id": "07ef77c8",
   "metadata": {},
   "source": [
    "### 3. `parse_actor_page(self, response)` "
   ]
  },
  {
   "cell_type": "code",
   "execution_count": null,
   "id": "969fb8c7",
   "metadata": {},
   "outputs": [],
   "source": [
    "def parse_actor_page(self, response):\n",
    "        \n",
    "        actor_name = response.css(\"span.itemprop::text\").get()\n",
    "        \n",
    "        for movie in response.css(\"div.filmo-row\"):\n",
    "            movie_name = [movie.css(\"a::text\").get()]\n",
    "\n",
    "            yield {\n",
    "                   \"actor\" : actor_name, \n",
    "                   \"movie_name\" : movie_name\n",
    "            }"
   ]
  },
  {
   "cell_type": "code",
   "execution_count": null,
   "id": "c6d4c0f7",
   "metadata": {},
   "outputs": [],
   "source": [
    "scrapy crawl imdb_spider -o results.csv"
   ]
  },
  {
   "cell_type": "markdown",
   "id": "a72f6e4b",
   "metadata": {},
   "source": [
    "First, import panda package."
   ]
  },
  {
   "cell_type": "code",
   "execution_count": 1,
   "id": "8e3abfaa",
   "metadata": {},
   "outputs": [],
   "source": [
    "import pandas as pd"
   ]
  },
  {
   "cell_type": "code",
   "execution_count": 2,
   "id": "8bd9e0ef",
   "metadata": {},
   "outputs": [
    {
     "data": {
      "text/html": [
       "<div>\n",
       "<style scoped>\n",
       "    .dataframe tbody tr th:only-of-type {\n",
       "        vertical-align: middle;\n",
       "    }\n",
       "\n",
       "    .dataframe tbody tr th {\n",
       "        vertical-align: top;\n",
       "    }\n",
       "\n",
       "    .dataframe thead th {\n",
       "        text-align: right;\n",
       "    }\n",
       "</style>\n",
       "<table border=\"1\" class=\"dataframe\">\n",
       "  <thead>\n",
       "    <tr style=\"text-align: right;\">\n",
       "      <th></th>\n",
       "      <th>actor</th>\n",
       "      <th>movie_name</th>\n",
       "    </tr>\n",
       "  </thead>\n",
       "  <tbody>\n",
       "    <tr>\n",
       "      <th>0</th>\n",
       "      <td>Fay Genens</td>\n",
       "      <td>Forrest Gump</td>\n",
       "    </tr>\n",
       "    <tr>\n",
       "      <th>1</th>\n",
       "      <td>Frank Geyer</td>\n",
       "      <td>Bet Your Life</td>\n",
       "    </tr>\n",
       "    <tr>\n",
       "      <th>2</th>\n",
       "      <td>Tyler Long</td>\n",
       "      <td>All Saints Eve</td>\n",
       "    </tr>\n",
       "    <tr>\n",
       "      <th>3</th>\n",
       "      <td>Frank Geyer</td>\n",
       "      <td>Forrest Gump</td>\n",
       "    </tr>\n",
       "    <tr>\n",
       "      <th>4</th>\n",
       "      <td>Tyler Long</td>\n",
       "      <td>Taking Chances</td>\n",
       "    </tr>\n",
       "    <tr>\n",
       "      <th>...</th>\n",
       "      <td>...</td>\n",
       "      <td>...</td>\n",
       "    </tr>\n",
       "    <tr>\n",
       "      <th>16800</th>\n",
       "      <td>John Lennon</td>\n",
       "      <td>Go Go Mania</td>\n",
       "    </tr>\n",
       "    <tr>\n",
       "      <th>16801</th>\n",
       "      <td>John Lennon</td>\n",
       "      <td>Jaaroverzicht</td>\n",
       "    </tr>\n",
       "    <tr>\n",
       "      <th>16802</th>\n",
       "      <td>John Lennon</td>\n",
       "      <td>Follow the Beatles</td>\n",
       "    </tr>\n",
       "    <tr>\n",
       "      <th>16803</th>\n",
       "      <td>John Lennon</td>\n",
       "      <td>The Jack Paar Program</td>\n",
       "    </tr>\n",
       "    <tr>\n",
       "      <th>16804</th>\n",
       "      <td>John Lennon</td>\n",
       "      <td>Jaaroverzicht</td>\n",
       "    </tr>\n",
       "  </tbody>\n",
       "</table>\n",
       "<p>16805 rows × 2 columns</p>\n",
       "</div>"
      ],
      "text/plain": [
       "             actor             movie_name\n",
       "0       Fay Genens           Forrest Gump\n",
       "1      Frank Geyer          Bet Your Life\n",
       "2       Tyler Long         All Saints Eve\n",
       "3      Frank Geyer           Forrest Gump\n",
       "4       Tyler Long         Taking Chances\n",
       "...            ...                    ...\n",
       "16800  John Lennon            Go Go Mania\n",
       "16801  John Lennon          Jaaroverzicht\n",
       "16802  John Lennon     Follow the Beatles\n",
       "16803  John Lennon  The Jack Paar Program\n",
       "16804  John Lennon          Jaaroverzicht\n",
       "\n",
       "[16805 rows x 2 columns]"
      ]
     },
     "execution_count": 2,
     "metadata": {},
     "output_type": "execute_result"
    }
   ],
   "source": [
    "results = pd.read_csv(\"results.csv\")\n",
    "results"
   ]
  },
  {
   "cell_type": "markdown",
   "id": "98d3d065",
   "metadata": {},
   "source": [
    "Now, we use `df.groupby.aggregate` to extract the number of actors in each movie."
   ]
  },
  {
   "cell_type": "code",
   "execution_count": 3,
   "id": "78906c52",
   "metadata": {},
   "outputs": [
    {
     "data": {
      "text/html": [
       "<div>\n",
       "<style scoped>\n",
       "    .dataframe tbody tr th:only-of-type {\n",
       "        vertical-align: middle;\n",
       "    }\n",
       "\n",
       "    .dataframe tbody tr th {\n",
       "        vertical-align: top;\n",
       "    }\n",
       "\n",
       "    .dataframe thead th {\n",
       "        text-align: right;\n",
       "    }\n",
       "</style>\n",
       "<table border=\"1\" class=\"dataframe\">\n",
       "  <thead>\n",
       "    <tr style=\"text-align: right;\">\n",
       "      <th></th>\n",
       "      <th>movie_name</th>\n",
       "      <th>actor</th>\n",
       "    </tr>\n",
       "  </thead>\n",
       "  <tbody>\n",
       "    <tr>\n",
       "      <th>0</th>\n",
       "      <td>$ellebrity</td>\n",
       "      <td>1</td>\n",
       "    </tr>\n",
       "    <tr>\n",
       "      <th>1</th>\n",
       "      <td>'92 Skybox Alonzo Mourning Rookie Card</td>\n",
       "      <td>1</td>\n",
       "    </tr>\n",
       "    <tr>\n",
       "      <th>2</th>\n",
       "      <td>'Catch Me If You Can': Behind the Camera</td>\n",
       "      <td>1</td>\n",
       "    </tr>\n",
       "    <tr>\n",
       "      <th>3</th>\n",
       "      <td>'Catch Me If You Can': In Closing</td>\n",
       "      <td>1</td>\n",
       "    </tr>\n",
       "    <tr>\n",
       "      <th>4</th>\n",
       "      <td>'Catch Me If You Can': The Casting of the Film</td>\n",
       "      <td>1</td>\n",
       "    </tr>\n",
       "    <tr>\n",
       "      <th>...</th>\n",
       "      <td>...</td>\n",
       "      <td>...</td>\n",
       "    </tr>\n",
       "    <tr>\n",
       "      <th>10823</th>\n",
       "      <td>À l'affiche du monde</td>\n",
       "      <td>1</td>\n",
       "    </tr>\n",
       "    <tr>\n",
       "      <th>10824</th>\n",
       "      <td>Ànima</td>\n",
       "      <td>1</td>\n",
       "    </tr>\n",
       "    <tr>\n",
       "      <th>10825</th>\n",
       "      <td>Året der gik</td>\n",
       "      <td>1</td>\n",
       "    </tr>\n",
       "    <tr>\n",
       "      <th>10826</th>\n",
       "      <td>Ídolos</td>\n",
       "      <td>1</td>\n",
       "    </tr>\n",
       "    <tr>\n",
       "      <th>10827</th>\n",
       "      <td>Údrzbári</td>\n",
       "      <td>1</td>\n",
       "    </tr>\n",
       "  </tbody>\n",
       "</table>\n",
       "<p>10828 rows × 2 columns</p>\n",
       "</div>"
      ],
      "text/plain": [
       "                                           movie_name  actor\n",
       "0                                          $ellebrity      1\n",
       "1              '92 Skybox Alonzo Mourning Rookie Card      1\n",
       "2            'Catch Me If You Can': Behind the Camera      1\n",
       "3                   'Catch Me If You Can': In Closing      1\n",
       "4      'Catch Me If You Can': The Casting of the Film      1\n",
       "...                                               ...    ...\n",
       "10823                            À l'affiche du monde      1\n",
       "10824                                           Ànima      1\n",
       "10825                                    Året der gik      1\n",
       "10826                                          Ídolos      1\n",
       "10827                                        Údrzbári      1\n",
       "\n",
       "[10828 rows x 2 columns]"
      ]
     },
     "execution_count": 3,
     "metadata": {},
     "output_type": "execute_result"
    }
   ],
   "source": [
    "results = results.groupby([\"movie_name\"])[\"actor\"].aggregate(len).reset_index()\n",
    "results"
   ]
  },
  {
   "cell_type": "code",
   "execution_count": 4,
   "id": "12dbf28a",
   "metadata": {},
   "outputs": [
    {
     "data": {
      "text/html": [
       "<div>\n",
       "<style scoped>\n",
       "    .dataframe tbody tr th:only-of-type {\n",
       "        vertical-align: middle;\n",
       "    }\n",
       "\n",
       "    .dataframe tbody tr th {\n",
       "        vertical-align: top;\n",
       "    }\n",
       "\n",
       "    .dataframe thead th {\n",
       "        text-align: right;\n",
       "    }\n",
       "</style>\n",
       "<table border=\"1\" class=\"dataframe\">\n",
       "  <thead>\n",
       "    <tr style=\"text-align: right;\">\n",
       "      <th></th>\n",
       "      <th>movie_name</th>\n",
       "      <th>number of shared actors</th>\n",
       "    </tr>\n",
       "  </thead>\n",
       "  <tbody>\n",
       "    <tr>\n",
       "      <th>0</th>\n",
       "      <td>Forrest Gump</td>\n",
       "      <td>179</td>\n",
       "    </tr>\n",
       "    <tr>\n",
       "      <th>1</th>\n",
       "      <td>Biography</td>\n",
       "      <td>30</td>\n",
       "    </tr>\n",
       "    <tr>\n",
       "      <th>2</th>\n",
       "      <td>Xscape</td>\n",
       "      <td>22</td>\n",
       "    </tr>\n",
       "    <tr>\n",
       "      <th>3</th>\n",
       "      <td>Today</td>\n",
       "      <td>22</td>\n",
       "    </tr>\n",
       "    <tr>\n",
       "      <th>4</th>\n",
       "      <td>Entertainment Tonight</td>\n",
       "      <td>21</td>\n",
       "    </tr>\n",
       "    <tr>\n",
       "      <th>5</th>\n",
       "      <td>60 Minutes</td>\n",
       "      <td>19</td>\n",
       "    </tr>\n",
       "    <tr>\n",
       "      <th>6</th>\n",
       "      <td>Partners</td>\n",
       "      <td>19</td>\n",
       "    </tr>\n",
       "    <tr>\n",
       "      <th>7</th>\n",
       "      <td>Cumulus 9</td>\n",
       "      <td>19</td>\n",
       "    </tr>\n",
       "    <tr>\n",
       "      <th>8</th>\n",
       "      <td>The Tonight Show Starring Johnny Carson</td>\n",
       "      <td>17</td>\n",
       "    </tr>\n",
       "    <tr>\n",
       "      <th>9</th>\n",
       "      <td>The Sixties</td>\n",
       "      <td>17</td>\n",
       "    </tr>\n",
       "  </tbody>\n",
       "</table>\n",
       "</div>"
      ],
      "text/plain": [
       "                                movie_name  number of shared actors\n",
       "0                             Forrest Gump                      179\n",
       "1                                Biography                       30\n",
       "2                                   Xscape                       22\n",
       "3                                    Today                       22\n",
       "4                    Entertainment Tonight                       21\n",
       "5                               60 Minutes                       19\n",
       "6                                 Partners                       19\n",
       "7                                Cumulus 9                       19\n",
       "8  The Tonight Show Starring Johnny Carson                       17\n",
       "9                              The Sixties                       17"
      ]
     },
     "execution_count": 4,
     "metadata": {},
     "output_type": "execute_result"
    }
   ],
   "source": [
    "results = results.sort_values(by=[\"actor\"],ascending=False,ignore_index=True)\n",
    "results = results.rename(columns={'actor': 'number of shared actors'})\n",
    "results.head(10)"
   ]
  }
 ],
 "metadata": {
  "kernelspec": {
   "display_name": "Python [conda env:PIC16B] *",
   "language": "python",
   "name": "conda-env-PIC16B-py"
  },
  "language_info": {
   "codemirror_mode": {
    "name": "ipython",
    "version": 3
   },
   "file_extension": ".py",
   "mimetype": "text/x-python",
   "name": "python",
   "nbconvert_exporter": "python",
   "pygments_lexer": "ipython3",
   "version": "3.7.7"
  }
 },
 "nbformat": 4,
 "nbformat_minor": 5
}
